{
 "cells": [
  {
   "cell_type": "markdown",
   "metadata": {},
   "source": [
    "\n",
    "# Project: Investigate a Dataset - [Tmdb Movie Data]\n",
    "\n",
    "## Table of Contents\n",
    "<ul>\n",
    "<li><a href=\"#intro\">Introduction</a></li>\n",
    "<li><a href=\"#wrangling\">Data Wrangling</a></li>\n",
    "<li><a href=\"#eda\">Exploratory Data Analysis</a></li>\n",
    "<li><a href=\"#conclusions\">Conclusions</a></li>\n",
    "</ul>"
   ]
  },
  {
   "cell_type": "markdown",
   "metadata": {},
   "source": [
    "<a id='intro'></a>\n",
    "## Introduction\n",
    "\n",
    "### Dataset Description \n",
    "\n",
    "> **Tip**: In this section of the report, provide a brief introduction to the dataset you've selected/downloaded for analysis. Read through the description available on the homepage-links present [here](https://docs.google.com/document/d/e/2PACX-1vTlVmknRRnfy_4eTrjw5hYGaiQim5ctr9naaRd4V9du2B5bxpd8FEH3KtDgp8qVekw7Cj1GLk1IXdZi/pub?embedded=True). List all column names in each table, and their significance. In case of multiple tables, describe the relationship between tables. \n",
    "\n",
    "\n",
    "### Question(s) for Analysis\n",
    "1.   How many movies were in each genre?\n",
    "2.   How many movies were released each year by Walt Disney?\n",
    "3.   What is the popularity of the most expensive movies based on vote count?\n",
    "4.   What is the correlation between budget and revenue for movies?\n",
    "  \n",
    "\n",
    "\n"
   ]
  },
  {
   "cell_type": "code",
   "execution_count": null,
   "metadata": {},
   "outputs": [],
   "source": [
    "#Import the important libraries pandas, numpy and matploylib\n",
    "import pandas as pd\n",
    "import numpy as np\n",
    "import matplotlib.pyplot as plt\n",
    "% matplotlib inline\n",
    "import seaborn as sns\n",
    "\n",
    "\n",
    "# Remember to include a 'magic word' so that your visualizations are plotted\n",
    "#   inline with the notebook. See this page for more:\n",
    "#   http://ipython.readthedocs.io/en/stable/interactive/magics.html\n"
   ]
  },
  {
   "cell_type": "code",
   "execution_count": null,
   "metadata": {},
   "outputs": [],
   "source": [
    "# Upgrade pandas to use dataframe.explode() function. \n",
    "!pip install --upgrade pandas==0.25.0"
   ]
  },
  {
   "cell_type": "markdown",
   "metadata": {},
   "source": [
    "<a id='wrangling'></a>\n",
    "## Data Wrangling\n",
    "\n",
    "\n",
    "### General Properties\n"
   ]
  },
  {
   "cell_type": "code",
   "execution_count": null,
   "metadata": {},
   "outputs": [],
   "source": [
    "# Load your data and print out a few lines. Perform operations to inspect data\n",
    "movie_data = pd.read_csv('Database_TMDb_movie_data/tmdb-movies.csv')\n",
    "#view the dataframe\n",
    "movie_data.head(10)\n",
    "\n"
   ]
  },
  {
   "cell_type": "code",
   "execution_count": null,
   "metadata": {},
   "outputs": [],
   "source": [
    "movie_data.info()"
   ]
  },
  {
   "cell_type": "code",
   "execution_count": null,
   "metadata": {},
   "outputs": [],
   "source": [
    "#geneneral summary of the data in the data set\n",
    "movie_data.describe()"
   ]
  },
  {
   "cell_type": "code",
   "execution_count": null,
   "metadata": {},
   "outputs": [],
   "source": [
    "#check if the data types are correct\n",
    "movie_data.dtypes"
   ]
  },
  {
   "cell_type": "markdown",
   "metadata": {},
   "source": [
    "\n",
    "### Data Cleaning\n",
    "> **Tip**: Make sure that you keep your reader informed on the steps that you are taking in your investigation. Follow every code cell, or every set of related code cells, with a markdown cell to describe to the reader what was found in the preceding cell(s). Try to make it so that the reader can then understand what they will be seeing in the following cell(s).\n",
    " "
   ]
  },
  {
   "cell_type": "code",
   "execution_count": null,
   "metadata": {},
   "outputs": [],
   "source": [
    "#releae date has the data type object, I will convert it to datetime data type\n",
    "movie_data['release_date'] =  pd.to_datetime(movie_data['release_date'])\n",
    "#check if changes have been made\n",
    "movie_data.dtypes"
   ]
  },
  {
   "cell_type": "code",
   "execution_count": null,
   "metadata": {},
   "outputs": [],
   "source": [
    "#checking for duplicates\n",
    "movie_data.duplicated().value_counts()"
   ]
  },
  {
   "cell_type": "code",
   "execution_count": null,
   "metadata": {},
   "outputs": [],
   "source": [
    "#remove duplicates\n",
    "movie_data.drop_duplicates(inplace = True)"
   ]
  },
  {
   "cell_type": "code",
   "execution_count": null,
   "metadata": {},
   "outputs": [],
   "source": [
    "#checking if the duplicate data has been removed\n",
    "movie_data.duplicated().sum()"
   ]
  },
  {
   "cell_type": "code",
   "execution_count": null,
   "metadata": {},
   "outputs": [],
   "source": [
    "#check the number of missing values per column\n",
    "movie_data.isnull().sum()"
   ]
  },
  {
   "cell_type": "markdown",
   "metadata": {},
   "source": [
    "From the result provided, the clumns that have missing data are;\n",
    "*   imdb_id \n",
    "*   cast                      \n",
    "*   homepage              \n",
    "*   director               \n",
    "*   tagline               \n",
    "*   keywords               \n",
    "*   overview                   \n",
    "*   genres                   \n",
    "*   production_companies   \n",
    "\n",
    "To know what method we'll use to handle the missing values, we'll fing the percentage of the missing values"
   ]
  },
  {
   "cell_type": "code",
   "execution_count": null,
   "metadata": {},
   "outputs": [],
   "source": [
    "percent_missing = movie_data.isnull().sum() * 100 / len(movie_data)\n",
    "percent_missing"
   ]
  },
  {
   "cell_type": "code",
   "execution_count": null,
   "metadata": {},
   "outputs": [],
   "source": [
    "#we will replace the missing values in 'production companies' column with NA so as to perform iterative operations\n",
    "movie_data['production_companies'] = movie_data['production_companies'].fillna('NA')"
   ]
  },
  {
   "cell_type": "markdown",
   "metadata": {},
   "source": []
  },
  {
   "cell_type": "markdown",
   "metadata": {},
   "source": []
  },
  {
   "cell_type": "markdown",
   "metadata": {},
   "source": [
    "<a id='eda'></a>\n",
    "## Exploratory Data Analysis\n",
    "\n",
    "\n",
    "### Research Question 1 (How many movies were in each genre?)"
   ]
  },
  {
   "cell_type": "code",
   "execution_count": null,
   "metadata": {},
   "outputs": [],
   "source": [
    "#Retrive the column data from the dataset\n",
    "genre = movie_data['genres'].str.cat(sep = '|')\n",
    "genre\n"
   ]
  },
  {
   "cell_type": "code",
   "execution_count": null,
   "metadata": {},
   "outputs": [],
   "source": [
    "#separating the genres\n",
    "genre_data = pd.Series(genre.split('|'))\n",
    "genre_data"
   ]
  },
  {
   "cell_type": "code",
   "execution_count": null,
   "metadata": {},
   "outputs": [],
   "source": [
    "#Counting the occurrence of each genre\n",
    "genre_count = genre_data.value_counts(ascending = False)\n",
    "genre_count"
   ]
  },
  {
   "cell_type": "code",
   "execution_count": null,
   "metadata": {},
   "outputs": [],
   "source": [
    "#representing the data in a table\n",
    "movie_genre = pd.DataFrame(genre_count,columns =['number_of_movies'])\n",
    "movie_genre\n"
   ]
  },
  {
   "cell_type": "code",
   "execution_count": null,
   "metadata": {},
   "outputs": [],
   "source": []
  },
  {
   "cell_type": "markdown",
   "metadata": {},
   "source": [
    "### Research Question 2  (How many movies were released each year by Walt Disney?)"
   ]
  },
  {
   "cell_type": "code",
   "execution_count": null,
   "metadata": {},
   "outputs": [],
   "source": [
    "#get movies that were produced by Walt Disney over the years\n",
    "movie_data[\"production_companies\"].apply(lambda title: \"Walt Disney Pictures\" in title).sum()\n",
    "\n"
   ]
  },
  {
   "cell_type": "code",
   "execution_count": null,
   "metadata": {},
   "outputs": [],
   "source": [
    "movie_production = movie_data.loc[[\"Walt Disney Pictures\" in title for title in movie_data[\"production_companies\"]], ['production_companies', 'release_year']].sort_values('release_year', ascending = False )\n",
    "movie_production.groupby(['production_companies']).sum()"
   ]
  },
  {
   "cell_type": "code",
   "execution_count": null,
   "metadata": {},
   "outputs": [],
   "source": [
    "#creating a countplot for the above data\n",
    "plt.figure(figsize=(18, 9))\n",
    "sns.countplot(x = \"release_year\", data = movie_production)\n",
    "plt.title(\"Count of Movies Produced by Walt Disney Over The Years\")\n",
    "plt.xticks(rotation=45, horizontalalignment='right')\n",
    "plt.show()"
   ]
  },
  {
   "cell_type": "markdown",
   "metadata": {},
   "source": [
    "### Research Question 3  (What is the popularity of the most expensive movies based on vote count?)\n",
    "<a id=\"expensive\"></a>"
   ]
  },
  {
   "cell_type": "code",
   "execution_count": null,
   "metadata": {},
   "outputs": [],
   "source": [
    "\n",
    "#create a dataset that returns the oriinal itle of a movie, it's vote count and adjusted budget. Then sort the budget in descending order\n",
    "budget_movie = movie_data[['original_title', 'vote_count', 'budget_adj']].sort_values('budget_adj', ascending = False)\n",
    "budget_movie.head(5)"
   ]
  },
  {
   "cell_type": "code",
   "execution_count": null,
   "metadata": {},
   "outputs": [],
   "source": [
    "\n",
    "#we'll now draw a histogram to show the distribution of votecounts across different budgets\n",
    "plt.hist(budget_movie[\"budget_adj\"])\n",
    "plt.title(\"Movie Budget\")\n",
    "plt.xlabel(\"Budget in USD\")\n",
    "plt.ylabel(\"Vote Counts\")           \n",
    "plt.show()"
   ]
  },
  {
   "cell_type": "code",
   "execution_count": null,
   "metadata": {},
   "outputs": [],
   "source": [
    "#Let's create a function that we will call everytime we create a scatter plot\n",
    "def scatter_plot(x_data, y_data, title, x_label, y_label):\n",
    "    data = plt.scatter(x= x_data, y= y_data)\n",
    "    xlim = plt.xlim(0, 1100)\n",
    "    title = plt.title(title)\n",
    "    label1 = plt.xlabel(x_label)\n",
    "    label2 = plt.ylabel(y_label)\n",
    "    show = plt.show()\n",
    "    \n",
    "    scatterplot = data, xlim, title, label1, label2, show\n",
    "    return scatterplot\n"
   ]
  },
  {
   "cell_type": "code",
   "execution_count": 21,
   "metadata": {},
   "outputs": [
    {
     "data": {
      "image/png": "[encoded data removed]",
      "text/plain": [
       "<matplotlib.figure.Figure at 0x7f4d5bee8550>"
      ]
     },
     "metadata": {
      "needs_background": "light"
     },
     "output_type": "display_data"
    },
    {
     "data": {
      "text/plain": [
       "(<matplotlib.collections.PathCollection at 0x7f4d5be58e80>,\n",
       " (0, 1100),\n",
       " Text(0.5,1,'Scatter plot for budget and Vote Count'),\n",
       " Text(0.5,17.2,'Budget in USD'),\n",
       " Text(17.2,0.5,'Vote Count'),\n",
       " None)"
      ]
     },
     "execution_count": 21,
     "metadata": {},
     "output_type": "execute_result"
    }
   ],
   "source": [
    "budget_votecount = scatter_plot([movie_data[\"budget\"]], [movie_data[\"vote_count\"]], \"Scatter plot for budget and Vote Count\", \"Budget in USD\", \"Vote Count\")\n",
    "budget_votecount"
   ]
  },
  {
   "cell_type": "markdown",
   "metadata": {},
   "source": [
    "<a id='q4'></a>\n",
    "### Research Question 4  (What is the correlation between budget and revenue for movies?)"
   ]
  },
  {
   "cell_type": "code",
   "execution_count": 20,
   "metadata": {},
   "outputs": [
    {
     "data": {
      "image/png": "[encoded data removed]",
      "text/plain": [
       "<matplotlib.figure.Figure at 0x7f4d5bf10d30>"
      ]
     },
     "metadata": {
      "needs_background": "light"
     },
     "output_type": "display_data"
    },
    {
     "data": {
      "text/plain": [
       "(<matplotlib.collections.PathCollection at 0x7f4d5be83748>,\n",
       " (0, 1100),\n",
       " Text(0.5,1,'Scatter plot for budget and Revenue'),\n",
       " Text(0.5,17.2,'Budget in USD'),\n",
       " Text(17.2,0.5,'Revenue'),\n",
       " None)"
      ]
     },
     "execution_count": 20,
     "metadata": {},
     "output_type": "execute_result"
    }
   ],
   "source": [
    "#We'll create a scatter plot that shows the correlation between the budget and revenue for movies, we'll call the scatter_plot function\n",
    "budget_revenue = scatter_plot([movie_data[\"budget\"]], [movie_data[\"revenue\"]], \"Scatter plot for budget and Revenue\", \"Budget in USD\", \"Revenue\")\n",
    "budget_revenue\n",
    "                                                      "
   ]
  },
  {
   "cell_type": "markdown",
   "metadata": {},
   "source": [
    "## Discussion\n",
    "For this analysis, I seek to answer four questions. I started out by wrangling the data from the source provided. I then went ahead to assess the data aand clean. \n",
    "Exploratory data analysis was done on the dataset based on the different questions. I used scatter plots and count plots to visualise results from the analysis."
   ]
  },
  {
   "cell_type": "markdown",
   "metadata": {},
   "source": [
    "<a id='conclusions'></a>\n",
    "## Conclusions\n",
    "\n",
    "### Question 1 : How many movies were in each genre?\n",
    "\n",
    "The dataset has 20 different genres. From the analysis, movies in the Drama genre are the highest produced over the years while Western Genre movies are the least produced.\n",
    "\n",
    "\n",
    "### Question 2 : How many movies were released each year by Walt Disney?\n",
    "From the analysis performed, we see that the number of movies produced by Walt Disney Pictures has increased (although not steadily) over the years. 2003 recorded the highest number of movies produced by Walt Disney while 1961 to 1982 recorded the least movie productions by Walt Disney Pictures.\n",
    "\n",
    "### Question 3 : What is the popularity of the most expensive movies based on vote count?\n",
    "There is no consice trend between the most expensive movies based on vote count. However, <a href=\"#expensive\">this table</a> summarizes the popularity of the most expensive movies from the dataset.\n",
    "\n",
    "\n",
    "\n",
    "### Question 4 :  What is the correlation between budget and revenue for movies?\n",
    "The analysis done points to the conclusion that revenue and budget of a movie are directly proportional.This is evideced in <a href=\"#q4\">this scatterplot</a>, we can see that movies with a low budget produced low revenues while those with a high budget resulted in relativel high revenues.\n",
    "\n",
    "## Limitations\n",
    "While analysing the data one of the challenges that I encountered was choosing a method to handle the missig values. from the analysis, the following columns had missing data:\n",
    "*   imdb_id \n",
    "*   cast                      \n",
    "*   homepage              \n",
    "*   director               \n",
    "*   tagline               \n",
    "*   keywords               \n",
    "*   overview                   \n",
    "*   genres                   \n",
    "*   production_companies   \n",
    "When working with data in the production_companies column, I thought that dropping rows with null values would be an appropriate way of handling the missing data. However, I realised that dropping over 1000 rows would cause a big dent in the dataset. \n"
   ]
  },
  {
   "cell_type": "markdown",
   "metadata": {},
   "source": [
    "## Submitting your Project \n",
    "\n",
    "> **Tip**: Before you submit your project, you need to create a .html or .pdf version of this notebook in the workspace here. To do that, run the code cell below. If it worked correctly, you should get a return code of 0, and you should see the generated .html file in the workspace directory (click on the orange Jupyter icon in the upper left).\n",
    "\n",
    "> **Tip**: Alternatively, you can download this report as .html via the **File** > **Download as** submenu, and then manually upload it into the workspace directory by clicking on the orange Jupyter icon in the upper left, then using the Upload button.\n",
    "\n",
    "> **Tip**: Once you've done this, you can submit your project by clicking on the \"Submit Project\" button in the lower right here. This will create and submit a zip file with this .ipynb doc and the .html or .pdf version you created. Congratulations!"
   ]
  },
  {
   "cell_type": "code",
   "execution_count": null,
   "metadata": {},
   "outputs": [],
   "source": [
    "from subprocess import call\n",
    "call(['python', '-m', 'nbconvert', 'Investigate_a_Dataset.ipynb'])"
   ]
  },
  {
   "cell_type": "code",
   "execution_count": null,
   "metadata": {},
   "outputs": [],
   "source": []
  }
 ],
 "metadata": {
  "celltoolbar": "Tags",
  "kernelspec": {
   "display_name": "Python 3",
   "language": "python",
   "name": "python3"
  },
  "language_info": {
   "codemirror_mode": {
    "name": "ipython",
    "version": 3
   },
   "file_extension": ".py",
   "mimetype": "text/x-python",
   "name": "python",
   "nbconvert_exporter": "python",
   "pygments_lexer": "ipython3",
   "version": "3.6.3"
  }
 },
 "nbformat": 4,
 "nbformat_minor": 2
}
